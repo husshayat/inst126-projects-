{
 "cells": [
  {
   "cell_type": "markdown",
   "metadata": {},
   "source": [
    "<div alert\n",
    "\n",
    "Before you turn this problem in, make sure everything runs as expected. First, **restart the kernel** (in the menubar, select Kernel$\\rightarrow$Restart) and then **run all cells** (in the menubar, select Cell$\\rightarrow$Run All).\n",
    "\n",
    "Make sure you fill in any place that says `YOUR CODE HERE` or \"YOUR ANSWER HERE\", as well as your name:"
   ]
  },
  {
   "cell_type": "code",
   "execution_count": 1,
   "metadata": {},
   "outputs": [],
   "source": [
    "NAME = \"Hayat Hussein\""
   ]
  },
  {
   "cell_type": "markdown",
   "metadata": {},
   "source": [
    "⚠️⚠️⚠️ **NOTE:** Remember we store your submissions and check against other student's submissions... so, not that you would, but no cheating. ⚠️⚠️⚠️\n",
    "\n",
    "---"
   ]
  },
  {
   "cell_type": "markdown",
   "metadata": {
    "deletable": false,
    "editable": false,
    "id": "Q4DUKQu30UpM",
    "nbgrader": {
     "cell_type": "markdown",
     "checksum": "846f16c6239b97cf642b55e154689ab5",
     "grade": false,
     "grade_id": "cell-151ad98ae70e5e34",
     "locked": true,
     "schema_version": 3,
     "solution": false,
     "task": false
    }
   },
   "source": [
    "# Project 4: Data Analysis with Pandas\n"
   ]
  },
  {
   "cell_type": "markdown",
   "metadata": {
    "deletable": false,
    "editable": false,
    "nbgrader": {
     "cell_type": "markdown",
     "checksum": "9d012395a7b39bb2df78d538d077d6e8",
     "grade": false,
     "grade_id": "cell-bc6b73d8d12557f5",
     "locked": true,
     "schema_version": 3,
     "solution": false,
     "task": false
    }
   },
   "source": [
    "## Setting up the autograder\n",
    "\n",
    "We need to set up the autograder first. Run the cell below just once. This will make sure the autograder works correctly.\n",
    "\n",
    "(If you need to restart the kernel at any point during your work, make sure you come back to this cell and re-run it again, before using the autograder.)"
   ]
  },
  {
   "cell_type": "code",
   "execution_count": 1,
   "metadata": {},
   "outputs": [],
   "source": [
    "# This cell needs to be run just once before running the autograder\n",
    "\n",
    "try:\n",
    "    from autograder import autograder\n",
    "except ImportError:\n",
    "    print(\"😭 Could not setup the autograder! 😭 did you forget autograder.py?\")\n",
    "    raise"
   ]
  },
  {
   "cell_type": "markdown",
   "metadata": {
    "deletable": false,
    "editable": false,
    "id": "spLE98dUsRcY",
    "nbgrader": {
     "cell_type": "markdown",
     "checksum": "773fa388d1b3f1ff4cef4fe07aa1600e",
     "grade": false,
     "grade_id": "cell-27447bde63c68c28",
     "locked": true,
     "points": 0,
     "schema_version": 3,
     "solution": false,
     "task": true
    }
   },
   "source": [
    "## Pick one problem to solve\n",
    "\n",
    "Choose ***one*** of the following problems to solve by adding a checkmark to the markdown cell below. \n",
    "\n",
    "To add the checkmark, you will need to edit the cell directly; it will not let you click on it. For example, if you want us to grade problem A, in the cell below you should put an `X` like this:\n",
    "```\n",
    "- [X] A\n",
    "- [ ] B\n",
    "- [ ] C\n",
    "```\n",
    "---\n",
    "\n",
    "⬇️⬇️⬇️ Enter your response in the cell below ⬇️⬇️⬇️"
   ]
  },
  {
   "cell_type": "markdown",
   "metadata": {},
   "source": [
    "### Please grade this problem (check one):\n",
    "\n",
    "- [ X] Problem 1: Course Prereq Flexibility\n",
    "- [ ] Problem 2: Labor Statistics Gender Gap\n",
    "- [ ] Problem 3: NCAA Basketball Coach Winningness\n",
    "- [ ] Problem 4: Restaurant Transactions by Time of Day"
   ]
  },
  {
   "cell_type": "markdown",
   "metadata": {
    "deletable": false,
    "editable": false,
    "nbgrader": {
     "cell_type": "markdown",
     "checksum": "a904aa9ca2c1904725e30f31afb42f4a",
     "grade": false,
     "grade_id": "cell-158d4e4ae7afa66a",
     "locked": true,
     "schema_version": 3,
     "solution": false,
     "task": false
    }
   },
   "source": [
    "---\n",
    "\n",
    "⚠️⚠️⚠️ You may attempt more than one problem if you want, but if you do, please note that we will count only the one that you mark here. ⚠️⚠️⚠️"
   ]
  },
  {
   "cell_type": "markdown",
   "metadata": {
    "deletable": false,
    "editable": false,
    "nbgrader": {
     "cell_type": "markdown",
     "checksum": "602ef52ba387f1636c128322f66e83c6",
     "grade": false,
     "grade_id": "cell-56c4cc63beb734fc",
     "locked": true,
     "schema_version": 3,
     "solution": false,
     "task": false
    }
   },
   "source": [
    "## Problem 1:  Course Prereq Flexibility\n",
    "\n",
    "We have a dataset (\"testudo_fall2020.csv\") of course descriptions from Fall 2020 at UMD. We would like to know whether/how the different colleges/areas of the university vary in terms of the flexibility of prerequisites for their courses. We want a final dataset we can explore with this information (transformed from the original dataset), and also the 5 most and 5 least flexible colleges/areas (i.e., as measured by percentage of courses with no or flexible prerequisites).\n",
    "\n",
    "If all goes well your solution should return the following data frame:\n",
    "\n",
    "<table border=\"1\" class=\"dataframe\">\n",
    "  <thead>\n",
    "    <tr style=\"text-align: right;\">\n",
    "      <th></th>\n",
    "      <th>area</th>\n",
    "      <th>flexibility</th>\n",
    "    </tr>\n",
    "  </thead>\n",
    "  <tbody>\n",
    "    <tr>\n",
    "      <th>0</th>\n",
    "      <td>INFM</td>\n",
    "      <td>1.000000</td>\n",
    "    </tr>\n",
    "    <tr>\n",
    "      <th>1</th>\n",
    "      <td>SPHL</td>\n",
    "      <td>1.000000</td>\n",
    "    </tr>\n",
    "    <tr>\n",
    "      <th>2</th>\n",
    "      <td>PLCY</td>\n",
    "      <td>0.892857</td>\n",
    "    </tr>\n",
    "    <tr>\n",
    "      <th>3</th>\n",
    "      <td>URSP</td>\n",
    "      <td>0.857143</td>\n",
    "    </tr>\n",
    "    <tr>\n",
    "      <th>4</th>\n",
    "      <td>ENSP</td>\n",
    "      <td>0.833333</td>\n",
    "    </tr>\n",
    "    <tr>\n",
    "      <th>5</th>\n",
    "      <td>PSYC</td>\n",
    "      <td>0.447368</td>\n",
    "    </tr>\n",
    "    <tr>\n",
    "      <th>6</th>\n",
    "      <td>BMGT</td>\n",
    "      <td>0.433962</td>\n",
    "    </tr>\n",
    "    <tr>\n",
    "      <th>7</th>\n",
    "      <td>MATH</td>\n",
    "      <td>0.408163</td>\n",
    "    </tr>\n",
    "    <tr>\n",
    "      <th>8</th>\n",
    "      <td>STAT</td>\n",
    "      <td>0.400000</td>\n",
    "    </tr>\n",
    "    <tr>\n",
    "      <th>9</th>\n",
    "      <td>ECON</td>\n",
    "      <td>0.265625</td>\n",
    "    </tr>\n",
    "  </tbody>\n",
    "</table>\n",
    "\n",
    "---\n",
    "\n",
    "⬇️⬇️⬇️ Enter your solution in the cell below ⬇️⬇️⬇️"
   ]
  },
  {
   "cell_type": "code",
   "execution_count": 3,
   "metadata": {
    "deletable": false,
    "nbgrader": {
     "cell_type": "code",
     "checksum": "f65a64688f3efae8fc58f80e45670029",
     "grade": false,
     "grade_id": "cell-1cafbe59eb9d7d3c",
     "locked": false,
     "schema_version": 3,
     "solution": true,
     "task": false
    }
   },
   "outputs": [],
   "source": [
    "import pandas as pd\n",
    "\n",
    "def course_prereq_flexibility(filename):\n",
    "    \"\"\"\n",
    "    analyze the course prerequisite flexibility \n",
    "\n",
    "    parameters:\n",
    "    filename: (str) name of csv file \n",
    "\n",
    "    returns:\n",
    "    dataframe of the most flexible top 5 and least 5 flexible bottom areas\n",
    "    \"\"\"\n",
    "    #read the file into the dataframe\n",
    "    df = pd.read_csv(filename)\n",
    "    \n",
    "    #calculating flexibility for course by area group\n",
    "    def calculate_flexibility(area_group):\n",
    "        \"\"\"\n",
    "        calculate flexibility of the courses prereqs of an areagroup\n",
    "        \n",
    "        parameters:\n",
    "        area_group- df of a group of courses in an area \n",
    "        \n",
    "        returns:\n",
    "        the flexibility calculated to the total courses \n",
    "        \"\"\"\n",
    "        total_courses = len(area_group)\n",
    "        #isin is the boolean that filters if None or Flexible is True\n",
    "        flexible_courses = area_group['prereq_type'].isin(['None', 'Flexible']).sum()\n",
    "        return flexible_courses/ total_courses\n",
    "    \n",
    "    #using the calculation function and grouping the area\n",
    "    area_flexibility = df.groupby('area').apply(calculate_flexibility).reset_index(name='flexibility')\n",
    "    #sorting the dataframe in the appropriate form \"descending\"\n",
    "    area_flexibility_sorted = area_flexibility.sort_values(by='flexibility', ascending=False).reset_index(drop=True)\n",
    "    #extract the 5 most and 5 least most flexible areas \n",
    "    most_flexible = area_flexibility_sorted.head(5) #head is the first 5 rows of the df\n",
    "    least_flexible = area_flexibility_sorted.tail(5) #tail is the last 5 rows of the df\n",
    "    \n",
    "    #conecating the 2 dataframes using pd.concat as append does not work for the autograder\n",
    "    result_df = pd.concat([most_flexible, least_flexible], ignore_index=True) #makes sure index starts from 0\n",
    "    \n",
    "    return result_df"
   ]
  },
  {
   "cell_type": "markdown",
   "metadata": {
    "deletable": false,
    "editable": false,
    "nbgrader": {
     "cell_type": "markdown",
     "checksum": "1c27cdab4f8399773a75a7055221fb1e",
     "grade": false,
     "grade_id": "cell-56733c1c9e38a711",
     "locked": true,
     "schema_version": 3,
     "solution": false,
     "task": false
    }
   },
   "source": [
    "Use the cell below to test your function here (and / or add more code blocks if you need to). "
   ]
  },
  {
   "cell_type": "code",
   "execution_count": 4,
   "metadata": {},
   "outputs": [
    {
     "data": {
      "text/html": [
       "<div>\n",
       "<style scoped>\n",
       "    .dataframe tbody tr th:only-of-type {\n",
       "        vertical-align: middle;\n",
       "    }\n",
       "\n",
       "    .dataframe tbody tr th {\n",
       "        vertical-align: top;\n",
       "    }\n",
       "\n",
       "    .dataframe thead th {\n",
       "        text-align: right;\n",
       "    }\n",
       "</style>\n",
       "<table border=\"1\" class=\"dataframe\">\n",
       "  <thead>\n",
       "    <tr style=\"text-align: right;\">\n",
       "      <th></th>\n",
       "      <th>area</th>\n",
       "      <th>flexibility</th>\n",
       "    </tr>\n",
       "  </thead>\n",
       "  <tbody>\n",
       "    <tr>\n",
       "      <th>0</th>\n",
       "      <td>INFM</td>\n",
       "      <td>1.000000</td>\n",
       "    </tr>\n",
       "    <tr>\n",
       "      <th>1</th>\n",
       "      <td>SPHL</td>\n",
       "      <td>1.000000</td>\n",
       "    </tr>\n",
       "    <tr>\n",
       "      <th>2</th>\n",
       "      <td>PLCY</td>\n",
       "      <td>0.892857</td>\n",
       "    </tr>\n",
       "    <tr>\n",
       "      <th>3</th>\n",
       "      <td>URSP</td>\n",
       "      <td>0.857143</td>\n",
       "    </tr>\n",
       "    <tr>\n",
       "      <th>4</th>\n",
       "      <td>ENSP</td>\n",
       "      <td>0.833333</td>\n",
       "    </tr>\n",
       "    <tr>\n",
       "      <th>5</th>\n",
       "      <td>PSYC</td>\n",
       "      <td>0.447368</td>\n",
       "    </tr>\n",
       "    <tr>\n",
       "      <th>6</th>\n",
       "      <td>BMGT</td>\n",
       "      <td>0.433962</td>\n",
       "    </tr>\n",
       "    <tr>\n",
       "      <th>7</th>\n",
       "      <td>MATH</td>\n",
       "      <td>0.408163</td>\n",
       "    </tr>\n",
       "    <tr>\n",
       "      <th>8</th>\n",
       "      <td>STAT</td>\n",
       "      <td>0.400000</td>\n",
       "    </tr>\n",
       "    <tr>\n",
       "      <th>9</th>\n",
       "      <td>ECON</td>\n",
       "      <td>0.265625</td>\n",
       "    </tr>\n",
       "  </tbody>\n",
       "</table>\n",
       "</div>"
      ],
      "text/plain": [
       "   area  flexibility\n",
       "0  INFM     1.000000\n",
       "1  SPHL     1.000000\n",
       "2  PLCY     0.892857\n",
       "3  URSP     0.857143\n",
       "4  ENSP     0.833333\n",
       "5  PSYC     0.447368\n",
       "6  BMGT     0.433962\n",
       "7  MATH     0.408163\n",
       "8  STAT     0.400000\n",
       "9  ECON     0.265625"
      ]
     },
     "execution_count": 4,
     "metadata": {},
     "output_type": "execute_result"
    }
   ],
   "source": [
    "# example input\n",
    "fn = \"testudo_fall2020.csv\"\n",
    "df = course_prereq_flexibility(fn)\n",
    "df"
   ]
  },
  {
   "cell_type": "markdown",
   "metadata": {
    "deletable": false,
    "editable": false,
    "nbgrader": {
     "cell_type": "markdown",
     "checksum": "766ea6b87d066165aa59fc2a1043fdd8",
     "grade": false,
     "grade_id": "cell-8f651dc732a68d41",
     "locked": true,
     "schema_version": 3,
     "solution": false,
     "task": false
    }
   },
   "source": [
    "When you are done testing your function, run the autograder below to check if your solution is correct."
   ]
  },
  {
   "cell_type": "code",
   "execution_count": 5,
   "metadata": {
    "deletable": false,
    "editable": false,
    "nbgrader": {
     "cell_type": "code",
     "checksum": "cf61010e3bdef305530700760fd237b3",
     "grade": true,
     "grade_id": "cell-b614e7532f73f309",
     "locked": true,
     "points": 0,
     "schema_version": 3,
     "solution": false,
     "task": false
    }
   },
   "outputs": [
    {
     "name": "stdout",
     "output_type": "stream",
     "text": [
      "Testing course_prereq_flexibility with 'testudo_fall2020.csv'\n",
      "Return value...OK. \n",
      "\n",
      "Correct, great job! 👍\n"
     ]
    }
   ],
   "source": [
    "try:\n",
    "    autograder\n",
    "except NameError:\n",
    "    print(\"⚠️⚠️⚠️ no autograder found! Did you set up the autograder? ⚠️⚠️⚠️\")\n",
    "    raise\n",
    "    \n",
    "casesprob1 = [\n",
    "    {\n",
    "        'args': ('testudo_fall2020.csv',),\n",
    "        'expected_answer': \"\"\"area,flexibility\n",
    "INFM,1.0\n",
    "SPHL,1.0\n",
    "PLCY,0.8928571428571429\n",
    "URSP,0.8571428571428571\n",
    "ENSP,0.8333333333333334\n",
    "PSYC,0.4473684210526316\n",
    "BMGT,0.4339622641509434\n",
    "MATH,0.40816326530612246\n",
    "STAT,0.4\n",
    "ECON,0.265625\"\"\",        \n",
    "    }\n",
    "]\n",
    "\n",
    "_ = autograder(course_prereq_flexibility, casesprob1)"
   ]
  },
  {
   "cell_type": "code",
   "execution_count": 6,
   "metadata": {
    "deletable": false,
    "editable": false,
    "nbgrader": {
     "cell_type": "code",
     "checksum": "a412aea4551324d13d3fc484859424d9",
     "grade": true,
     "grade_id": "cell-ac9e1333c50334d2",
     "locked": true,
     "points": 0,
     "schema_version": 3,
     "solution": false,
     "task": false
    }
   },
   "outputs": [],
   "source": [
    "# This cell is reserved for grading, please do not change it.\n"
   ]
  },
  {
   "cell_type": "markdown",
   "metadata": {
    "deletable": false,
    "editable": false,
    "nbgrader": {
     "cell_type": "markdown",
     "checksum": "fd61ae7f5d81714f603a09561df3ec21",
     "grade": false,
     "grade_id": "cell-0ae2c932d19b3fce",
     "locked": true,
     "schema_version": 3,
     "solution": false,
     "task": false
    }
   },
   "source": [
    "\n",
    "## Problem 2: Labor Statistics Gender Gap\n",
    "\n",
    "We have a dataset (\"bls-by-category.csv\") of number of workers and weekly earnings broken down by occupation, occupation category, and gender. We would like to know how the average weekly earnings gap between males and females varies across occupation category. We want a final dataset we can explore with this information (transformed from the original dataset), and which 5 categories have the largest <span style=\"text-decoration: underline;\">average</span> gender gap in weekly earnings, and which 5 categories have the smallest <span style=\"text-decoration: underline;\">average</span> gender gap in weekly earnings. NOTE: some of the occupations have missing data, so your analysis pipeline might need to include a data cleaning step. Also, the earnings gap is not in the original data, so you will have to compute this value.    \n",
    "\n",
    "If all goes well your solution should return the following data frame:\n",
    "\n",
    "<table border=\"1\" class=\"dataframe\">\n",
    "  <thead>\n",
    "    <tr style=\"text-align: right;\">\n",
    "      <th></th>\n",
    "      <th>Category</th>\n",
    "      <th>Gap_weekly</th>\n",
    "    </tr>\n",
    "  </thead>\n",
    "  <tbody>\n",
    "    <tr>\n",
    "      <th>0</th>\n",
    "      <td>SCIENCE</td>\n",
    "      <td>367.000000</td>\n",
    "    </tr>\n",
    "    <tr>\n",
    "      <th>1</th>\n",
    "      <td>SALES</td>\n",
    "      <td>311.545455</td>\n",
    "    </tr>\n",
    "    <tr>\n",
    "      <th>2</th>\n",
    "      <td>MANAGEMENT</td>\n",
    "      <td>306.125000</td>\n",
    "    </tr>\n",
    "    <tr>\n",
    "      <th>3</th>\n",
    "      <td>BUSINESS</td>\n",
    "      <td>287.916667</td>\n",
    "    </tr>\n",
    "    <tr>\n",
    "      <th>4</th>\n",
    "      <td>COMPUTATIONAL</td>\n",
    "      <td>218.714286</td>\n",
    "    </tr>\n",
    "    <tr>\n",
    "      <th>5</th>\n",
    "      <td>OFFICE</td>\n",
    "      <td>74.411765</td>\n",
    "    </tr>\n",
    "    <tr>\n",
    "      <th>6</th>\n",
    "      <td>HEALTHCARE SUPPORT</td>\n",
    "      <td>69.000000</td>\n",
    "    </tr>\n",
    "    <tr>\n",
    "      <th>7</th>\n",
    "      <td>AGRICULTURAL</td>\n",
    "      <td>62.000000</td>\n",
    "    </tr>\n",
    "    <tr>\n",
    "      <th>8</th>\n",
    "      <td>SOCIAL SERVICE</td>\n",
    "      <td>61.333333</td>\n",
    "    </tr>\n",
    "    <tr>\n",
    "      <th>9</th>\n",
    "      <td>PROTECTIVE SERVICE</td>\n",
    "      <td>54.000000</td>\n",
    "    </tr>\n",
    "  </tbody>\n",
    "</table>\n",
    "\n",
    "\n",
    "---\n",
    "\n",
    "⬇️⬇️⬇️ Enter your solution in the cell below ⬇️⬇️⬇️"
   ]
  },
  {
   "cell_type": "code",
   "execution_count": null,
   "metadata": {
    "deletable": false,
    "id": "Stj6Fd_4ghH0",
    "nbgrader": {
     "cell_type": "code",
     "checksum": "995fe25c308005f5069c2b8cffcf7a28",
     "grade": false,
     "grade_id": "cell-af888b82d947e9f9",
     "locked": false,
     "schema_version": 3,
     "solution": true,
     "task": false
    }
   },
   "outputs": [],
   "source": [
    "\n"
   ]
  },
  {
   "cell_type": "markdown",
   "metadata": {
    "deletable": false,
    "editable": false,
    "nbgrader": {
     "cell_type": "markdown",
     "checksum": "7f09f894511c884d8233aeb887b1b950",
     "grade": false,
     "grade_id": "cell-aa5218e990e6323d",
     "locked": true,
     "schema_version": 3,
     "solution": false,
     "task": false
    }
   },
   "source": [
    "Use the cell below to test your function here (and / or add more code blocks if you need to)."
   ]
  },
  {
   "cell_type": "code",
   "execution_count": null,
   "metadata": {},
   "outputs": [],
   "source": [
    "fn = \"bls-by-category.csv\"\n",
    "df = labor_stats_gender_gap(fn)\n",
    "df"
   ]
  },
  {
   "cell_type": "markdown",
   "metadata": {
    "deletable": false,
    "editable": false,
    "nbgrader": {
     "cell_type": "markdown",
     "checksum": "0a484402d36c3057e511fd2de8f79913",
     "grade": false,
     "grade_id": "cell-8f07a4192bc71082",
     "locked": true,
     "schema_version": 3,
     "solution": false,
     "task": false
    }
   },
   "source": [
    "When you are done testing your function, run the autograder below to check if your solution is correct. "
   ]
  },
  {
   "cell_type": "code",
   "execution_count": null,
   "metadata": {
    "deletable": false,
    "editable": false,
    "nbgrader": {
     "cell_type": "code",
     "checksum": "67889e5ad6bd3d267837651e2fbc3972",
     "grade": true,
     "grade_id": "cell-7ed1a9dc3647b56b",
     "locked": true,
     "points": 0,
     "schema_version": 3,
     "solution": false,
     "task": false
    }
   },
   "outputs": [],
   "source": [
    "try:\n",
    "    autograder\n",
    "except NameError:\n",
    "    print(\"⚠️⚠️⚠️ no autograder found! Did you set up the autograder? ⚠️⚠️⚠️\")\n",
    "    raise\n",
    "    \n",
    "casesprob2 = [\n",
    "    {\n",
    "        'args': ('bls-by-category.csv',),\n",
    "        'expected_answer': \"\"\"Category,Gap_weekly\n",
    "SCIENCE,367.0\n",
    "SALES,311.54545454545456\n",
    "MANAGEMENT,306.125\n",
    "BUSINESS,287.9166666666667\n",
    "COMPUTATIONAL,218.71428571428572\n",
    "OFFICE,74.41176470588235\n",
    "HEALTHCARE SUPPORT,69.0\n",
    "AGRICULTURAL,62.0\n",
    "SOCIAL SERVICE,61.333333333333336\n",
    "PROTECTIVE SERVICE,54.0\"\"\",    \n",
    "    },\n",
    "]\n",
    "\n",
    "_ = autograder(labor_stats_gender_gap, casesprob2)"
   ]
  },
  {
   "cell_type": "code",
   "execution_count": null,
   "metadata": {
    "deletable": false,
    "editable": false,
    "nbgrader": {
     "cell_type": "code",
     "checksum": "c87f93f9473abd2726c044a4810dac8a",
     "grade": true,
     "grade_id": "cell-d7c06ab7a491bbd7",
     "locked": true,
     "points": 0,
     "schema_version": 3,
     "solution": false,
     "task": false
    }
   },
   "outputs": [],
   "source": [
    "# This cell is reserved for grading, please do not change it.\n"
   ]
  },
  {
   "cell_type": "markdown",
   "metadata": {
    "deletable": false,
    "editable": false,
    "nbgrader": {
     "cell_type": "markdown",
     "checksum": "687e87639ef8dce6a69d57ff7d364efd",
     "grade": false,
     "grade_id": "cell-e7ad1c4aac232d84",
     "locked": true,
     "schema_version": 3,
     "solution": false,
     "task": false
    }
   },
   "source": [
    "## Problem 3: NCAA Basketball Coach Winningness \n",
    "\n",
    "We have a dataset (\"ncaa-team-data.csv\") of season statistics for NCAA basketball teams (and their associated head coaches). We would like to know how the season winrates vary across coaches. We want a final dataset we can explore with this information (transformed from the original dataset), and which 5 coaches have the best <span style=\"text-decoration: underline;\">average</span> winrates (across seasons), and which 5 coaches have the worst <span style=\"text-decoration: underline;\">average</span> winrates (across seasons). NOTE: the win percentage is not in the original dataset (only number of wins and losses), so you will have to compute this value. If there are multiple coaches listed, use only the first one. Some seasons have missing data, so your analysis pipeline might need to include a data cleaning step.\n",
    "\n",
    "If all goes well your solution should return the following data frame:\n",
    "\n",
    "<table border=\"1\" class=\"dataframe\">\n",
    "  <thead>\n",
    "    <tr style=\"text-align: right;\">\n",
    "      <th></th>\n",
    "      <th>Coach</th>\n",
    "      <th>winrate</th>\n",
    "    </tr>\n",
    "  </thead>\n",
    "  <tbody>\n",
    "    <tr>\n",
    "      <th>0</th>\n",
    "      <td>James Dickey</td>\n",
    "      <td>0.938000</td>\n",
    "    </tr>\n",
    "    <tr>\n",
    "      <th>1</th>\n",
    "      <td>Tim Jankovich</td>\n",
    "      <td>0.882000</td>\n",
    "    </tr>\n",
    "    <tr>\n",
    "      <th>2</th>\n",
    "      <td>Bill Herrion</td>\n",
    "      <td>0.871000</td>\n",
    "    </tr>\n",
    "    <tr>\n",
    "      <th>3</th>\n",
    "      <td>John Kresse</td>\n",
    "      <td>0.869667</td>\n",
    "    </tr>\n",
    "    <tr>\n",
    "      <th>4</th>\n",
    "      <td>Mike Heideman</td>\n",
    "      <td>0.862000</td>\n",
    "    </tr>\n",
    "    <tr>\n",
    "      <th>5</th>\n",
    "      <td>Elwood Plummer</td>\n",
    "      <td>0.433000</td>\n",
    "    </tr>\n",
    "    <tr>\n",
    "      <th>6</th>\n",
    "      <td>Stan Morrison</td>\n",
    "      <td>0.433000</td>\n",
    "    </tr>\n",
    "    <tr>\n",
    "      <th>7</th>\n",
    "      <td>Joe Callero</td>\n",
    "      <td>0.412000</td>\n",
    "    </tr>\n",
    "    <tr>\n",
    "      <th>8</th>\n",
    "      <td>Mickey Clayton</td>\n",
    "      <td>0.387000</td>\n",
    "    </tr>\n",
    "    <tr>\n",
    "      <th>9</th>\n",
    "      <td>Paul Cormier</td>\n",
    "      <td>0.367000</td>\n",
    "    </tr>\n",
    "  </tbody>\n",
    "</table>\n",
    "\n",
    "---\n",
    "\n",
    "⬇️⬇️⬇️ Enter your solution in the cell below ⬇️⬇️⬇️"
   ]
  },
  {
   "cell_type": "code",
   "execution_count": null,
   "metadata": {
    "deletable": false,
    "nbgrader": {
     "cell_type": "code",
     "checksum": "6dda26048effe4a32bd6f091f5400f0a",
     "grade": false,
     "grade_id": "cell-b5c98bb7508195c8",
     "locked": false,
     "schema_version": 3,
     "solution": true,
     "task": false
    }
   },
   "outputs": [],
   "source": [
    "import pandas as pd\n",
    "\n",
    "# YOUR CODE HERE\n",
    "raise NotImplementedError()\n",
    "\n",
    "def ncaa_basketball_coach_winning(filename):\n",
    "    # YOUR CODE HERE\n",
    "    raise NotImplementedError()"
   ]
  },
  {
   "cell_type": "markdown",
   "metadata": {
    "deletable": false,
    "editable": false,
    "nbgrader": {
     "cell_type": "markdown",
     "checksum": "290b1488d7bed8b22b8e530a0211cc88",
     "grade": false,
     "grade_id": "cell-985e9743c014a5ba",
     "locked": true,
     "schema_version": 3,
     "solution": false,
     "task": false
    }
   },
   "source": [
    "Use the cell below to test your function here (and / or add more code blocks if you need to). "
   ]
  },
  {
   "cell_type": "code",
   "execution_count": null,
   "metadata": {
    "id": "-sbzllUWhAdz"
   },
   "outputs": [],
   "source": [
    "# example input\n",
    "fn = \"ncaa-team-data.csv\"\n",
    "df = ncaa_basketball_coach_winning(fn)\n",
    "df"
   ]
  },
  {
   "cell_type": "markdown",
   "metadata": {
    "deletable": false,
    "editable": false,
    "nbgrader": {
     "cell_type": "markdown",
     "checksum": "a52c8882da2dff21517d01846f3add3e",
     "grade": false,
     "grade_id": "cell-a6b7c50e1fd1ee81",
     "locked": true,
     "schema_version": 3,
     "solution": false,
     "task": false
    }
   },
   "source": [
    "When you are done testing your function, run the autograder below to check if your solution is correct. "
   ]
  },
  {
   "cell_type": "code",
   "execution_count": null,
   "metadata": {
    "deletable": false,
    "editable": false,
    "id": "3-V85Vl6hBEb",
    "nbgrader": {
     "cell_type": "code",
     "checksum": "23ee7726c0369fb6ed3125159d4d1130",
     "grade": true,
     "grade_id": "cell-d63cb74b61a26b55",
     "locked": true,
     "points": 0,
     "schema_version": 3,
     "solution": false,
     "task": false
    }
   },
   "outputs": [],
   "source": [
    "try:\n",
    "    autograder\n",
    "except NameError:\n",
    "    print(\"⚠️⚠️⚠️ no autograder found! Did you set up the autograder? ⚠️⚠️⚠️\")\n",
    "    raise\n",
    "    \n",
    "casesprob3 = [\n",
    "    {\n",
    "        'args': ('ncaa-team-data.csv',),\n",
    "        'expected_answer': \"\"\"Coach,winrate\n",
    "James Dickey,0.938\n",
    "Tim Jankovich,0.882\n",
    "Bill Herrion,0.871\n",
    "John Kresse,0.8696666666666667\n",
    "Mike Heideman,0.862\n",
    "Elwood Plummer,0.433\n",
    "Stan Morrison,0.433\n",
    "Joe Callero,0.412\n",
    "Mickey Clayton,0.387\n",
    "Paul Cormier,0.367\"\"\",        \n",
    "    },\n",
    "]\n",
    "\n",
    "_ = autograder(ncaa_basketball_coach_winning, casesprob3)"
   ]
  },
  {
   "cell_type": "code",
   "execution_count": null,
   "metadata": {
    "deletable": false,
    "editable": false,
    "nbgrader": {
     "cell_type": "code",
     "checksum": "6cbeabab3532a30faee4746699722700",
     "grade": true,
     "grade_id": "cell-085527712278a7f3",
     "locked": true,
     "points": 0,
     "schema_version": 3,
     "solution": false,
     "task": false
    }
   },
   "outputs": [],
   "source": [
    "# This cell is reserved for grading, please do not change it.\n"
   ]
  },
  {
   "cell_type": "markdown",
   "metadata": {
    "deletable": false,
    "editable": false,
    "nbgrader": {
     "cell_type": "markdown",
     "checksum": "61473543655714f10f89867e06c98ca4",
     "grade": false,
     "grade_id": "cell-12240e31acc807ec",
     "locked": true,
     "schema_version": 3,
     "solution": false,
     "task": false
    }
   },
   "source": [
    "## Problem 4: Restaurant Transactions by Time of Day \n",
    "\n",
    "We have a dataset (\"BreadBasket_DMS.csv\") of time-stamped transactions from a restaurant. We would like to know what are the most popular items by time of day, according to the following 5 categories: 1) morning rush (opening to 9a), 2) morning (between 9a and 12p), 3) lunch rush (12-2p), 4) afternoon (between 2p and 6p) 5) dinner rush (6-8p), and 6) night (8p to close). We want a final dataset we can explore with this information (transformed from the original dataset), and an answer to our question. NOTE: the time categories are not in the original dataset (only time stamps), so you will need to compute them.\n",
    "\n",
    "If all goes well your solution should return the following data frame:\n",
    "\n",
    "<table border=\"1\" class=\"dataframe\">\n",
    "  <thead>\n",
    "    <tr style=\"text-align: right;\">\n",
    "      <th></th>\n",
    "      <th>Time_Category</th>\n",
    "      <th>item</th>\n",
    "    </tr>\n",
    "  </thead>\n",
    "  <tbody>\n",
    "    <tr>\n",
    "      <th>0</th>\n",
    "      <td>afternoon</td>\n",
    "      <td>Coffee</td>\n",
    "    </tr>\n",
    "    <tr>\n",
    "      <th>1</th>\n",
    "      <td>dinner_rush</td>\n",
    "      <td>Coffee</td>\n",
    "    </tr>\n",
    "    <tr>\n",
    "      <th>2</th>\n",
    "      <td>lunch_rush</td>\n",
    "      <td>Coffee</td>\n",
    "    </tr>\n",
    "    <tr>\n",
    "      <th>3</th>\n",
    "      <td>morning</td>\n",
    "      <td>Coffee</td>\n",
    "    </tr>\n",
    "    <tr>\n",
    "      <th>4</th>\n",
    "      <td>morning_rush</td>\n",
    "      <td>Coffee</td>\n",
    "    </tr>\n",
    "    <tr>\n",
    "      <th>5</th>\n",
    "      <td>night</td>\n",
    "      <td>Postcard</td>\n",
    "    </tr>\n",
    "  </tbody>\n",
    "</table>\n",
    "\n",
    "---\n",
    "\n",
    "⬇️⬇️⬇️ Enter your solution in the cell below ⬇️⬇️⬇️"
   ]
  },
  {
   "cell_type": "code",
   "execution_count": null,
   "metadata": {
    "deletable": false,
    "nbgrader": {
     "cell_type": "code",
     "checksum": "6e1cd3c2e88872a746a2b6754e1c48c5",
     "grade": false,
     "grade_id": "cell-09ba3c1c2db9aaa4",
     "locked": false,
     "schema_version": 3,
     "solution": true,
     "task": false
    }
   },
   "outputs": [],
   "source": [
    "import pandas as pd\n",
    "\n",
    "# YOUR CODE HERE\n",
    "raise NotImplementedError()\n",
    "    \n",
    "def restaurant_transactions_by_time_day(filename):\n",
    "    # YOUR CODE HERE\n",
    "    raise NotImplementedError()"
   ]
  },
  {
   "cell_type": "markdown",
   "metadata": {
    "deletable": false,
    "editable": false,
    "nbgrader": {
     "cell_type": "markdown",
     "checksum": "11d007b0656762aeb1c578b8d8672dd7",
     "grade": false,
     "grade_id": "cell-84a9056a8170a8c6",
     "locked": true,
     "schema_version": 3,
     "solution": false,
     "task": false
    }
   },
   "source": [
    "Use the cell below to test your function here (and / or add more code blocks if you need to). "
   ]
  },
  {
   "cell_type": "code",
   "execution_count": null,
   "metadata": {
    "id": "WeVsjueHhhhl"
   },
   "outputs": [],
   "source": [
    "# example inputs\n",
    "fn = \"BreadBasket_DMS.csv\"\n",
    "df = restaurant_transactions_by_time_day(fn)\n",
    "df"
   ]
  },
  {
   "cell_type": "markdown",
   "metadata": {
    "deletable": false,
    "editable": false,
    "nbgrader": {
     "cell_type": "markdown",
     "checksum": "4ff47fd2a7f9f047f32033debb4ff7f8",
     "grade": false,
     "grade_id": "cell-994b27b734a50d02",
     "locked": true,
     "schema_version": 3,
     "solution": false,
     "task": false
    }
   },
   "source": [
    "When you are done testing your function, run the autograder below to check if your solution is correct. "
   ]
  },
  {
   "cell_type": "code",
   "execution_count": null,
   "metadata": {
    "deletable": false,
    "editable": false,
    "id": "psiFESpMnoF0",
    "nbgrader": {
     "cell_type": "code",
     "checksum": "7878ce31c1f872addccf64c59052d61b",
     "grade": true,
     "grade_id": "cell-5056118c1341cc39",
     "locked": true,
     "points": 0,
     "schema_version": 3,
     "solution": false,
     "task": false
    }
   },
   "outputs": [],
   "source": [
    "try:\n",
    "    autograder\n",
    "except NameError:\n",
    "    print(\"⚠️⚠️⚠️ no autograder found! Did you set up the autograder? ⚠️⚠️⚠️\")\n",
    "    raise\n",
    "    \n",
    "casesprob4 = [\n",
    "    {\n",
    "        'args': ('BreadBasket_DMS.csv',),\n",
    "        'expected_answer': \"\"\"Time_Category,item\n",
    "afternoon,Coffee\n",
    "dinner_rush,Coffee\n",
    "lunch_rush,Coffee\n",
    "morning,Coffee\n",
    "morning_rush,Coffee\n",
    "night,Postcard\n",
    "\"\"\"\n",
    "    },\n",
    "]\n",
    "\n",
    "_ = autograder(restaurant_transactions_by_time_day, casesprob4)"
   ]
  },
  {
   "cell_type": "code",
   "execution_count": null,
   "metadata": {
    "deletable": false,
    "editable": false,
    "nbgrader": {
     "cell_type": "code",
     "checksum": "250f17716cab6ec116bfd4b96d74162f",
     "grade": true,
     "grade_id": "cell-7efd8cb07ddd6a72",
     "locked": true,
     "points": 0,
     "schema_version": 3,
     "solution": false,
     "task": false
    }
   },
   "outputs": [],
   "source": [
    "# This cell is reserved for grading, please do not change it.\n"
   ]
  }
 ],
 "metadata": {
  "celltoolbar": "Edit Metadata",
  "colab": {
   "collapsed_sections": [],
   "name": "INST126_SP21_Project2_FinalDeliverable_TEMPLATE.ipynb",
   "provenance": []
  },
  "kernelspec": {
   "display_name": "anaconda-2022.05-py39",
   "language": "python",
   "name": "conda-env-anaconda-2022.05-py39-py"
  },
  "language_info": {
   "codemirror_mode": {
    "name": "ipython",
    "version": 3
   },
   "file_extension": ".py",
   "mimetype": "text/x-python",
   "name": "python",
   "nbconvert_exporter": "python",
   "pygments_lexer": "ipython3",
   "version": "3.9.12"
  },
  "toc": {
   "base_numbering": 1,
   "nav_menu": {},
   "number_sections": false,
   "sideBar": true,
   "skip_h1_title": false,
   "title_cell": "Table of Contents",
   "title_sidebar": "Contents",
   "toc_cell": false,
   "toc_position": {},
   "toc_section_display": true,
   "toc_window_display": false
  }
 },
 "nbformat": 4,
 "nbformat_minor": 4
}
