{
 "cells": [
  {
   "cell_type": "markdown",
   "metadata": {},
   "source": [
    "<div alert\n",
    "\n",
    "Before you turn this problem in, make sure everything runs as expected. First, **restart the kernel** (in the menubar, select Kernel$\\rightarrow$Restart) and then **run all cells** (in the menubar, select Cell$\\rightarrow$Run All).\n",
    "\n",
    "Make sure you fill in any place that says `YOUR CODE HERE` or \"YOUR ANSWER HERE\", as well as your name below:"
   ]
  },
  {
   "cell_type": "code",
   "execution_count": 1,
   "metadata": {},
   "outputs": [],
   "source": [
    "NAME = \"Hayat Hussein\""
   ]
  },
  {
   "cell_type": "markdown",
   "metadata": {},
   "source": [
    "⚠️⚠️⚠️ **NOTE:** Remember we store your submissions and check against other student's submissions... so, not that you would, but no cheating. ⚠️⚠️⚠️\n",
    "\n",
    "---"
   ]
  },
  {
   "cell_type": "markdown",
   "metadata": {
    "deletable": false,
    "editable": false,
    "id": "Q4DUKQu30UpM",
    "nbgrader": {
     "cell_type": "markdown",
     "checksum": "281f9133ce1ac3e92e113cb3876e79b2",
     "grade": false,
     "grade_id": "cell-aab20af18b270c36",
     "locked": true,
     "schema_version": 3,
     "solution": false,
     "task": false
    }
   },
   "source": [
    "# Project 1: Expressions, Variables, Functions, and Conditionals\n",
    "\n",
    "\n",
    "## Metacognition questions\n",
    "\n",
    "_Complete after you are finished, just before submitting._"
   ]
  },
  {
   "cell_type": "markdown",
   "metadata": {
    "deletable": false,
    "nbgrader": {
     "cell_type": "markdown",
     "checksum": "97d11b75abb537822fac24a62e7b9fff",
     "grade": false,
     "grade_id": "cell-4bc7c16dd5b54327",
     "locked": true,
     "points": 0,
     "schema_version": 3,
     "solution": false,
     "task": true
    }
   },
   "source": [
    "**Q1. While/after completing this project, what (if any) concepts/skills did you realize you feel you need/want to understand better?**\n",
    "\n",
    "While completing this project, the concepts that were a bit difficult for me to grasp is using operaters in an if, elif, and else statement. Sometimes I had difficulty understanding which operator to use for each problem. I also want to understand the difference between nested conditionals and chained conditionals. While working on this project, I didn't understand if my work exemplified nested conditionals or chained conditionals. "
   ]
  },
  {
   "cell_type": "markdown",
   "metadata": {
    "deletable": false,
    "editable": false,
    "nbgrader": {
     "cell_type": "markdown",
     "checksum": "cb7e11364deddb8e01e207dea38d5604",
     "grade": false,
     "grade_id": "cell-3e6c5d6aa092827d",
     "locked": true,
     "schema_version": 3,
     "solution": false,
     "task": false
    }
   },
   "source": [
    "---"
   ]
  },
  {
   "cell_type": "markdown",
   "metadata": {
    "deletable": false,
    "id": "Q4DUKQu30UpM",
    "nbgrader": {
     "cell_type": "markdown",
     "checksum": "2bb1c46632b49ffa450bbddb2fd08346",
     "grade": false,
     "grade_id": "cell-a40e491245c9f821",
     "locked": true,
     "points": 0,
     "schema_version": 3,
     "solution": false,
     "task": true
    }
   },
   "source": [
    "**Q2. How much have you relied on \"trial and error\"^ to complete this project? Give a rough, ballpark estimate. Answers might range from \"basically none\" to \"almost all of the code was written through trial and error\".**\n",
    "\n",
    "Almost all the code was written through trial and error. I had to rewrite code multiple times for it to run, and even when it ran, I did not write the correct answer. Revisiting my mistakes I rewrote code nearly 20 times before the autograder stated I completed it correctly. \n",
    "<br/>\n",
    "<br/>\n",
    "^ \"trial and error\" roughly amounts to blindly changing things until they work, with no predictions about whether your changes are likely to be successful or not."
   ]
  },
  {
   "cell_type": "markdown",
   "metadata": {
    "deletable": false,
    "editable": false,
    "nbgrader": {
     "cell_type": "markdown",
     "checksum": "aa9e0f05b8132687e4d718418ec90f18",
     "grade": false,
     "grade_id": "cell-a121f9b8799e0096",
     "locked": true,
     "schema_version": 3,
     "solution": false,
     "task": false
    }
   },
   "source": [
    "---"
   ]
  },
  {
   "cell_type": "markdown",
   "metadata": {
    "deletable": false,
    "editable": false,
    "nbgrader": {
     "cell_type": "markdown",
     "checksum": "ae7dc04e03e9156e0fc28a40f4ea755f",
     "grade": false,
     "grade_id": "cell-3a7bd7703520f291",
     "locked": true,
     "schema_version": 3,
     "solution": false,
     "task": false
    }
   },
   "source": [
    "## Setting up the autograder\n",
    "\n",
    "We need to set up the autograder first. Run the cell below just once. This will make sure the autograder works correctly.\n",
    "\n",
    "(If you need to restart the kernel at any point during your work, make sure you come back to this cell and re-run it again, before using the autograder.)"
   ]
  },
  {
   "cell_type": "code",
   "execution_count": 7,
   "metadata": {
    "deletable": false,
    "editable": false,
    "nbgrader": {
     "cell_type": "code",
     "checksum": "c1dc9260886dd250758fcebc9ff9102e",
     "grade": false,
     "grade_id": "cell-088a81421bd78662",
     "locked": true,
     "schema_version": 3,
     "solution": false,
     "task": false
    }
   },
   "outputs": [],
   "source": [
    "# This cell needs to be run just once before running the autograder.\n",
    "\n",
    "from collections import namedtuple\n",
    "\n",
    "TEST_PASS_MSG = \"Correct, great job! 👍\"\n",
    "TEST_FAIL_MSG = \"Something is not quite right!\\n\" \\\n",
    "    \" Check your solution and see if there is anything that needs to be changed.\""
   ]
  },
  {
   "cell_type": "markdown",
   "metadata": {},
   "source": [
    "---"
   ]
  },
  {
   "cell_type": "markdown",
   "metadata": {
    "deletable": false,
    "editable": false,
    "id": "spLE98dUsRcY",
    "nbgrader": {
     "cell_type": "markdown",
     "checksum": "bd963ca8481199a066e823cdc9e78904",
     "grade": false,
     "grade_id": "cell-d9e8aca489299f93",
     "locked": true,
     "schema_version": 3,
     "solution": false,
     "task": false
    }
   },
   "source": [
    "## Pick two problems to solve\n",
    "\n",
    "Choose ***two*** of the following problems to solve by adding checkmarks to the markdown cell below. \n",
    "\n",
    "To add checkmarks, you will need to edit the cell directly; it will not let you click on it. For example, if you want us to grade problem A, in the cell below you should put an `X` into the markdown like this and run the cell:\n",
    "```\n",
    "- [X] A\n",
    "- [ ] B\n",
    "- [ ] C\n",
    "```"
   ]
  },
  {
   "cell_type": "markdown",
   "metadata": {
    "deletable": false,
    "id": "spLE98dUsRcY",
    "nbgrader": {
     "cell_type": "markdown",
     "checksum": "a37c0c890af54af83fe9034f127563e8",
     "grade": false,
     "grade_id": "cell-f2d08435dbfe214b",
     "locked": true,
     "points": 0,
     "schema_version": 3,
     "solution": false,
     "task": true
    }
   },
   "source": [
    "### Please grade this problem (check two):\n",
    "\n",
    "- [ ] Problem 1: Wedding seating\n",
    "- [X] Problem 2: COVID testing\n",
    "- [ ] Problem 3: Football touchdown rules\n",
    "- [ ] Problem 4: Warrior attack effect calculator\n",
    "- [X] Problem 5: Coffee recommender\n",
    "\n",
    "---\n",
    "\n",
    "⚠️⚠️⚠️ You may attempt more than two problems if you want, but if you do, please note that we will count only the two that you mark here. ⚠️⚠️⚠️"
   ]
  },
  {
   "cell_type": "markdown",
   "metadata": {
    "deletable": false,
    "editable": false,
    "id": "spLE98dUsRcY",
    "nbgrader": {
     "cell_type": "markdown",
     "checksum": "a37c0c890af54af83fe9034f127563e8",
     "grade": false,
     "grade_id": "cell-f2d08435dbfe214b",
     "locked": true,
     "points": 0,
     "schema_version": 3,
     "solution": false,
     "task": true
    }
   },
   "source": [
    "**NOTE:** You will be graded on how well you answer the problems (i.e., arriving at the correct solution) **AND** how you answer the problems (i.e., approaching the problems correctly). For the latter, this means structuring and commenting your code (#'s and docstrings) and using naming conventions according to the practices taught so far in the course. "
   ]
  },
  {
   "cell_type": "markdown",
   "metadata": {
    "deletable": false,
    "editable": false,
    "id": "2IV8ktaD0kDr",
    "nbgrader": {
     "cell_type": "markdown",
     "checksum": "d4f079142571e623068089bfdd3a0c23",
     "grade": false,
     "grade_id": "cell-72d7c04d3a5d23bc",
     "locked": true,
     "schema_version": 3,
     "solution": false,
     "task": false
    }
   },
   "source": [
    "## Problem 1: Wedding seating\n",
    "\n",
    "Write a function called `wedding_seating` that tells you where to sit (*front-row*, *left*, or *right*) depending on these parameters: \n",
    "- `relationship`: whether you're **friend** or **family**\n",
    "- `close_to` whether you're closest to the **bride**, **groom**, or **both**\n",
    "\n",
    "Here is the mapping of cases to decisions that you want to follow:\n",
    "- **family** &rarr; *front-row* (no matter if close to bride, groom, or both)\n",
    "- **friend** of **bride** &rarr; *right*\n",
    "- **friend** of **groom** &rarr; *left*\n",
    "- **friend** of **both** bride *and* groom &rarr; *front-row*"
   ]
  },
  {
   "cell_type": "code",
   "execution_count": null,
   "metadata": {
    "deletable": false,
    "id": "D3Uz4y-a0Lrc",
    "nbgrader": {
     "cell_type": "code",
     "checksum": "1838376da6977f180eec476f9693471f",
     "grade": false,
     "grade_id": "cell-e59a5396e0fed9c5",
     "locked": false,
     "schema_version": 3,
     "solution": true,
     "task": false
    }
   },
   "outputs": [],
   "source": []
  },
  {
   "cell_type": "markdown",
   "metadata": {
    "deletable": false,
    "editable": false,
    "nbgrader": {
     "cell_type": "markdown",
     "checksum": "d7c83c86ac8e671384b58c46968f6a7d",
     "grade": false,
     "grade_id": "cell-771b101dd2e9e1b3",
     "locked": true,
     "schema_version": 3,
     "solution": false,
     "task": false
    }
   },
   "source": [
    "Use the cell below to test your function here (and / or add more code blocks if you need to). \n",
    "\n",
    "You should probably play around with these variables to test your function's behavior. "
   ]
  },
  {
   "cell_type": "code",
   "execution_count": 3,
   "metadata": {},
   "outputs": [
    {
     "ename": "NameError",
     "evalue": "name 'wedding_seating' is not defined",
     "output_type": "error",
     "traceback": [
      "\u001b[0;31m---------------------------------------------------------------------------\u001b[0m",
      "\u001b[0;31mNameError\u001b[0m                                 Traceback (most recent call last)",
      "Cell \u001b[0;32mIn[3], line 4\u001b[0m\n\u001b[1;32m      1\u001b[0m relationship \u001b[38;5;241m=\u001b[39m \u001b[38;5;124m\"\u001b[39m\u001b[38;5;124mfamily\u001b[39m\u001b[38;5;124m\"\u001b[39m\n\u001b[1;32m      2\u001b[0m close_to \u001b[38;5;241m=\u001b[39m \u001b[38;5;124m\"\u001b[39m\u001b[38;5;124mboth\u001b[39m\u001b[38;5;124m\"\u001b[39m\n\u001b[0;32m----> 4\u001b[0m result \u001b[38;5;241m=\u001b[39m wedding_seating(relationship, close_to)\n\u001b[1;32m      5\u001b[0m \u001b[38;5;28mprint\u001b[39m(result)\n",
      "\u001b[0;31mNameError\u001b[0m: name 'wedding_seating' is not defined"
     ]
    }
   ],
   "source": [
    "relationship = \"family\"\n",
    "close_to = \"both\"\n",
    "\n",
    "result = wedding_seating(relationship, close_to)\n",
    "print(result)"
   ]
  },
  {
   "cell_type": "markdown",
   "metadata": {
    "deletable": false,
    "editable": false,
    "nbgrader": {
     "cell_type": "markdown",
     "checksum": "39a0776285a8926356dc4832cbc17541",
     "grade": false,
     "grade_id": "cell-009f7b0e539fdf40",
     "locked": true,
     "schema_version": 3,
     "solution": false,
     "task": false
    }
   },
   "source": [
    "When you are done testing your function, run the autograder below to check if your solution is correct. "
   ]
  },
  {
   "cell_type": "code",
   "execution_count": null,
   "metadata": {
    "deletable": false,
    "editable": false,
    "id": "Tnd1mXJk0vZB",
    "nbgrader": {
     "cell_type": "code",
     "checksum": "8abfefadaf51e9af40706498cbcb4e8a",
     "grade": false,
     "grade_id": "cell-d21fad1bfd07e913",
     "locked": true,
     "schema_version": 3,
     "solution": false,
     "task": false
    }
   },
   "outputs": [],
   "source": [
    "WeddingCase = namedtuple(\"WeddingCase\", [\"relationship\", \"close_to\", \"expected_location\"])\n",
    "\n",
    "# the combination of inputs that will be used to test your function\n",
    "cases = [\n",
    "    WeddingCase(relationship=\"family\", close_to=\"groom\", expected_location=\"front-row\"),\n",
    "    WeddingCase(relationship=\"family\", close_to=\"bride\", expected_location=\"front-row\"),\n",
    "    WeddingCase(relationship=\"friend\", close_to=\"groom\", expected_location=\"left\"),\n",
    "    WeddingCase(relationship=\"friend\", close_to=\"bride\", expected_location=\"right\"),\n",
    "    WeddingCase(relationship=\"friend\", close_to=\"both\", expected_location=\"front-row\"),\n",
    "    WeddingCase(relationship=\"family\", close_to=\"both\", expected_location=\"front-row\")\n",
    "    \n",
    "]\n",
    "\n",
    "# this code takes your function and tests it against the test cases above\n",
    "print(f\"Testing the {wedding_seating.__name__} function:\")\n",
    "for case in cases:\n",
    "    print(f\"  With inputs: relationship={case.relationship!r}, close_to={case.close_to!r}, it \"\\\n",
    "          f\"should return: {case.expected_location!r}\", end=\"...\")\n",
    "    \n",
    "    # run student's function\n",
    "    seat_location = wedding_seating(relationship=case.relationship, close_to=case.close_to)\n",
    "\n",
    "    # test returned value is same as expecteed\n",
    "    try:\n",
    "        assert seat_location == case.expected_location, TEST_FAIL_MSG\n",
    "        print(\"OK\")\n",
    "    except AssertionError:\n",
    "        print(\"FAIL\")\n",
    "        raise\n",
    "\n",
    "# if all test cases passed, print a final message\n",
    "print(TEST_PASS_MSG)"
   ]
  },
  {
   "cell_type": "code",
   "execution_count": null,
   "metadata": {
    "deletable": false,
    "editable": false,
    "id": "Tnd1mXJk0vZB",
    "nbgrader": {
     "cell_type": "code",
     "checksum": "cb188b93cddf43445352464d371759a3",
     "grade": true,
     "grade_id": "cell-8c357ccbcad44c10",
     "locked": true,
     "points": 0,
     "schema_version": 3,
     "solution": false,
     "task": false
    }
   },
   "outputs": [],
   "source": [
    "# This cell is reserved for grading, please do not change it.\n"
   ]
  },
  {
   "cell_type": "markdown",
   "metadata": {
    "deletable": false,
    "editable": false,
    "nbgrader": {
     "cell_type": "markdown",
     "checksum": "050b274b40107384c0c6f732efaf7fcc",
     "grade": false,
     "grade_id": "cell-0d4f97315e86ec8d",
     "locked": true,
     "schema_version": 3,
     "solution": false,
     "task": false
    }
   },
   "source": [
    "---"
   ]
  },
  {
   "cell_type": "markdown",
   "metadata": {
    "deletable": false,
    "editable": false,
    "id": "uthF4fmV0uvt",
    "nbgrader": {
     "cell_type": "markdown",
     "checksum": "e739d65333f72ea0fb65ff58e7bc7e09",
     "grade": false,
     "grade_id": "cell-55515a0058e2416c",
     "locked": true,
     "schema_version": 3,
     "solution": false,
     "task": false
    }
   },
   "source": [
    "## Problem 2: COVID test\n",
    "Write a function called `checkforcovid` that makes a tentative diagnosis of COVID based on a set of symptoms. \n",
    "\n",
    "The symptoms (parameters) are:\n",
    "- `temperature` (int) - what is your temperature?\n",
    "- `fatigue` (Boolean) - are you tired?\n",
    "- `runny_nose` (Boolean) - do you have a runny nose?\n",
    "\n",
    "The conditions and outcomes are:\n",
    "- runny nose is an irrelevant symptom (a [red herring](https://en.wikipedia.org/wiki/Red_herring) if you will), so any time `runny_nose` is true, the function should diagnose as `probably_not` (i.e., not COVID)\n",
    "- if either temperature is above 100 (fever) or you are tired (but not both!), the function should diagnose as `possibly_yes`\n",
    "- if temperature is above 100 (fever) and you also tired, the function should diagnose as `probably_yes`\n",
    "\n",
    "*NOTE: it should go without saying, but these conditions are made up for this exercise: the reality is far more complex!*"
   ]
  },
  {
   "cell_type": "code",
   "execution_count": 11,
   "metadata": {
    "deletable": false,
    "id": "Stj6Fd_4ghH0",
    "nbgrader": {
     "cell_type": "code",
     "checksum": "bb1622170dbd4a961483ac8794505c08",
     "grade": false,
     "grade_id": "cell-d8efddb85a369439",
     "locked": false,
     "schema_version": 3,
     "solution": true,
     "task": false
    }
   },
   "outputs": [],
   "source": [
    "#testing for covid based on symptoms and temp\n",
    "def checkforcovid(temperature, fatigue, runny_nose):\n",
    "    \"\"\"\n",
    "    this function checks for covid test results based on symptoms\n",
    "    \n",
    "    Parameters \n",
    "    temperature: int\n",
    "    fatigue: bool\n",
    "    runny_nose: bool\n",
    "    \n",
    "    Returns:\n",
    "    return --> covid test results : possibly yes, probably yes, probably not\n",
    "    \"\"\"\n",
    "    if runny_nose == True:\n",
    "        return \"probably_not\"\n",
    "    elif temperature >100 and fatigue == True:\n",
    "        return \"probably_yes\"\n",
    "    elif temperature > 100 or fatigue == True:\n",
    "        return \"possibly_yes\"\n",
    "    else:\n",
    "        return \"probably_not\""
   ]
  },
  {
   "cell_type": "markdown",
   "metadata": {
    "deletable": false,
    "editable": false,
    "nbgrader": {
     "cell_type": "markdown",
     "checksum": "5ff26c50640c982b0d0a9e5a16a6fb19",
     "grade": false,
     "grade_id": "cell-5d287c888faec76e",
     "locked": true,
     "schema_version": 3,
     "solution": false,
     "task": false
    }
   },
   "source": [
    "Use the cell below to test your function here (and / or add more code blocks if you need to). \n",
    "\n",
    "You should probably play around with these variables to test your function's behavior. "
   ]
  },
  {
   "cell_type": "code",
   "execution_count": 12,
   "metadata": {},
   "outputs": [
    {
     "name": "stdout",
     "output_type": "stream",
     "text": [
      "probably_not\n"
     ]
    }
   ],
   "source": [
    "runny_nose = True\n",
    "temperature = 101\n",
    "fatigue = False\n",
    "result = checkforcovid(temperature, fatigue, runny_nose)\n",
    "print(result)"
   ]
  },
  {
   "cell_type": "markdown",
   "metadata": {
    "deletable": false,
    "editable": false,
    "nbgrader": {
     "cell_type": "markdown",
     "checksum": "4c4f0ae9b632e496a672123491032057",
     "grade": false,
     "grade_id": "cell-936486fb9edcea3d",
     "locked": true,
     "schema_version": 3,
     "solution": false,
     "task": false
    }
   },
   "source": [
    "When you are done testing your function, run the autograder below to check if your solution is correct. "
   ]
  },
  {
   "cell_type": "code",
   "execution_count": 13,
   "metadata": {
    "deletable": false,
    "editable": false,
    "id": "Tnd1mXJk0vZB",
    "nbgrader": {
     "cell_type": "code",
     "checksum": "3736c7ec82e6207c26c70cf4027d3f38",
     "grade": false,
     "grade_id": "cell-b57735fcf597471c",
     "locked": true,
     "schema_version": 3,
     "solution": false,
     "task": false
    }
   },
   "outputs": [
    {
     "name": "stdout",
     "output_type": "stream",
     "text": [
      "Testing the checkforcovid function:\n",
      "  With inputs: temperature=96, fatigue=False, runny_nose=False, it should return: 'probably_not'. Outcome...OK\n",
      "  With inputs: temperature=97, fatigue=False, runny_nose=True, it should return: 'probably_not'. Outcome...OK\n",
      "  With inputs: temperature=98, fatigue=True, runny_nose=False, it should return: 'possibly_yes'. Outcome...OK\n",
      "  With inputs: temperature=99, fatigue=True, runny_nose=True, it should return: 'probably_not'. Outcome...OK\n",
      "  With inputs: temperature=101, fatigue=False, runny_nose=False, it should return: 'possibly_yes'. Outcome...OK\n",
      "  With inputs: temperature=102, fatigue=False, runny_nose=True, it should return: 'probably_not'. Outcome...OK\n",
      "  With inputs: temperature=103, fatigue=True, runny_nose=False, it should return: 'probably_yes'. Outcome...OK\n",
      "  With inputs: temperature=104, fatigue=True, runny_nose=True, it should return: 'probably_not'. Outcome...OK\n",
      "Correct, great job! 👍\n"
     ]
    }
   ],
   "source": [
    "DiagnosisCase = namedtuple(\"DiagnosisCase\", [\"temperature\", \"fatigue\", \"runny_nose\", \"exp_diagnosis\"])\n",
    "\n",
    "cases = [\n",
    "    DiagnosisCase(temperature=96, fatigue=False, runny_nose=False, exp_diagnosis=\"probably_not\"),\n",
    "    DiagnosisCase(temperature=97, fatigue=False, runny_nose=True, exp_diagnosis=\"probably_not\"),\n",
    "    DiagnosisCase(temperature=98, fatigue=True, runny_nose=False, exp_diagnosis=\"possibly_yes\"),\n",
    "    DiagnosisCase(temperature=99, fatigue=True, runny_nose=True, exp_diagnosis=\"probably_not\"),\n",
    "    DiagnosisCase(temperature=101, fatigue=False, runny_nose=False, exp_diagnosis=\"possibly_yes\"),\n",
    "    DiagnosisCase(temperature=102, fatigue=False, runny_nose=True, exp_diagnosis=\"probably_not\"),\n",
    "    DiagnosisCase(temperature=103, fatigue=True, runny_nose=False, exp_diagnosis=\"probably_yes\"),\n",
    "    DiagnosisCase(temperature=104, fatigue=True, runny_nose=True, exp_diagnosis=\"probably_not\")\n",
    "]\n",
    "\n",
    "print(f\"Testing the {checkforcovid.__name__} function:\")\n",
    "for case in cases:\n",
    "    print(f\"  With inputs: temperature={case.temperature!r}, fatigue={case.fatigue!r}, \"\\\n",
    "          f\"runny_nose={case.runny_nose!r}, it should return: {case.exp_diagnosis!r}. \"\\\n",
    "          f\"Outcome\", end=\"...\")\n",
    "    \n",
    "    # run student's function\n",
    "    diagnosis = checkforcovid(temperature=case.temperature, fatigue=case.fatigue, runny_nose=case.runny_nose)\n",
    "\n",
    "    # test returned value is same as expecteed\n",
    "    try:\n",
    "        assert diagnosis == case.exp_diagnosis, TEST_FAIL_MSG\n",
    "        print(\"OK\")\n",
    "    except AssertionError:\n",
    "        print(\"FAIL\")\n",
    "        raise\n",
    "\n",
    "# if all test cases passed, print final message\n",
    "print(TEST_PASS_MSG)"
   ]
  },
  {
   "cell_type": "code",
   "execution_count": null,
   "metadata": {
    "deletable": false,
    "editable": false,
    "nbgrader": {
     "cell_type": "code",
     "checksum": "ccf634712be180ee097b70e6dbb327c8",
     "grade": true,
     "grade_id": "cell-5bab9c6aabb43159",
     "locked": true,
     "points": 0,
     "schema_version": 3,
     "solution": false,
     "task": false
    }
   },
   "outputs": [],
   "source": [
    "# This cell is reserved for grading, please do not change it.\n"
   ]
  },
  {
   "cell_type": "markdown",
   "metadata": {
    "deletable": false,
    "editable": false,
    "nbgrader": {
     "cell_type": "markdown",
     "checksum": "a95ffd234acedace264014e2fe823012",
     "grade": false,
     "grade_id": "cell-498fac21263be04f",
     "locked": true,
     "schema_version": 3,
     "solution": false,
     "task": false
    }
   },
   "source": [
    "---"
   ]
  },
  {
   "cell_type": "markdown",
   "metadata": {
    "deletable": false,
    "editable": false,
    "id": "coKS_h97g41S",
    "nbgrader": {
     "cell_type": "markdown",
     "checksum": "05d9cfa0366ff0b69fb134075532f1c8",
     "grade": false,
     "grade_id": "cell-7ceec1ea7b2c96df",
     "locked": true,
     "schema_version": 3,
     "solution": false,
     "task": false
    }
   },
   "source": [
    "## Problem 3: Football touchdown rules\n",
    "\n",
    "Write a function called `touchdown_rules` that calls a touchdown based on rules of football. \n",
    "\n",
    "Per [this simplified guide](https://www.thesun.co.uk/sport/5192047/nfl-rules-beginners-guide-touchdown-first-down-quarterback-endzone-super-bowl/#:~:text=A%20player%20can%20run%20the,in%20control%20from%20the%20receiver.), you can score a touchdown by running the ball in or catching a pass in the endzone. If you're running, the ball has only has to \"break the plane\" (i.e., cross the endzone line). But if you're catching, there are more requirements: both feet have to touch the ground AND the ball must be \"in control\" of the receiver; if either of these conditions is not met, then it's not a touchdown.\n",
    "\n",
    "In other words, your function needs to take in these parameters:\n",
    "- `break_plane` (Boolean) - did the ball \"break the plane\" (i.e., enter the end zone)?\n",
    "- `manner` (str) - how did the ball enter the end zone? \"run\" or \"catch\"?\n",
    "- `both_feet` (Boolean) - were both feet on the ground at the time of the call?\n",
    "- `in_control` (Boolean) - did the player \"have control\" of the ball at the time of the call?\n",
    "\n",
    "And return either `True` (touchdown!) or `False` (not touchdown), following the logic laid out above."
   ]
  },
  {
   "cell_type": "code",
   "execution_count": null,
   "metadata": {
    "deletable": false,
    "id": "-sbzllUWhAdz",
    "nbgrader": {
     "cell_type": "code",
     "checksum": "55f354927b9dd55771ce0cfce3addfa7",
     "grade": false,
     "grade_id": "cell-c198b940902dc47c",
     "locked": false,
     "schema_version": 3,
     "solution": true,
     "task": false
    }
   },
   "outputs": [],
   "source": [
    "# YOUR CODE HERE\n",
    "raise NotImplementedError()"
   ]
  },
  {
   "cell_type": "markdown",
   "metadata": {
    "deletable": false,
    "editable": false,
    "nbgrader": {
     "cell_type": "markdown",
     "checksum": "71ce314d6acfd10eb9058c1eb6a2b2fa",
     "grade": false,
     "grade_id": "cell-2f8d8c39e699ea24",
     "locked": true,
     "schema_version": 3,
     "solution": false,
     "task": false
    }
   },
   "source": [
    "Test your function here (and / or add more code blocks if you need to). \n",
    "\n",
    "You should probably play around with these variables to test your function's behavior."
   ]
  },
  {
   "cell_type": "code",
   "execution_count": null,
   "metadata": {
    "id": "3-V85Vl6hBEb"
   },
   "outputs": [],
   "source": [
    "break_plane = True\n",
    "manner = \"run\"\n",
    "both_feet = True\n",
    "in_control = True\n",
    "call = touchdown_rules(break_plane, manner, both_feet, in_control)\n",
    "print(call)"
   ]
  },
  {
   "cell_type": "markdown",
   "metadata": {
    "deletable": false,
    "editable": false,
    "nbgrader": {
     "cell_type": "markdown",
     "checksum": "4ba6fdc12b4609eb13cd8d0ddf52ca79",
     "grade": false,
     "grade_id": "cell-0b79611ba8838976",
     "locked": true,
     "schema_version": 3,
     "solution": false,
     "task": false
    }
   },
   "source": [
    "When you are done testing your function, run the autograder below to check if your solution is correct. \n",
    "\n",
    "The autograder will test several possible combinations of inputs at once."
   ]
  },
  {
   "cell_type": "code",
   "execution_count": null,
   "metadata": {
    "deletable": false,
    "editable": false,
    "nbgrader": {
     "cell_type": "code",
     "checksum": "25e0ac93d2e69c3193263b7eec48da27",
     "grade": true,
     "grade_id": "cell-9e135fa9d6376255",
     "locked": true,
     "points": 0,
     "schema_version": 3,
     "solution": false,
     "task": false
    }
   },
   "outputs": [],
   "source": [
    "TouchdownCase = namedtuple(\"TouchdownCase\", [\"break_plane\", \"manner\", \"both_feet\", \"in_control\", \"expected_call\"])\n",
    "\n",
    "cases = [\n",
    "    TouchdownCase(break_plane=False, manner=\"run\", both_feet=True, in_control=False, expected_call=False),\n",
    "    TouchdownCase(break_plane=True, manner=\"run\", both_feet=False, in_control=True, expected_call=True),\n",
    "    TouchdownCase(break_plane=False, manner=\"catch\", both_feet=False, in_control=True, expected_call=False),\n",
    "    TouchdownCase(break_plane=False, manner=\"catch\", both_feet=True, in_control=True, expected_call=True),\n",
    "    TouchdownCase(break_plane=True, manner=\"catch\", both_feet=True, in_control=False, expected_call=False),\n",
    "]\n",
    "\n",
    "\n",
    "print(f\"Testing the {touchdown_rules.__name__} function:\")\n",
    "for case in cases:\n",
    "    print(f\"  With: break_plan={case.break_plane!r}, manner={case.manner!r}, \"\\\n",
    "          f\"both_feet={case.both_feet!r}, in_control={case.in_control!r} it should \"\\\n",
    "          f\"return: {case.expected_call!r}. Outcome\", end=\"...\")\n",
    "    \n",
    "    # run student's function\n",
    "    call = touchdown_rules(break_plane=case.break_plane, manner=case.manner, \n",
    "                         both_feet=case.both_feet, in_control=case.in_control)\n",
    "\n",
    "    # test returned value is same as expecteed\n",
    "    try:\n",
    "        assert call == case.expected_call, TEST_FAIL_MSG\n",
    "        print(\"OK\")\n",
    "    except AssertionError:\n",
    "        print(\"FAIL\")\n",
    "        raise\n",
    "\n",
    "# if all test cases passed, print final message\n",
    "print(TEST_PASS_MSG)"
   ]
  },
  {
   "cell_type": "code",
   "execution_count": null,
   "metadata": {
    "deletable": false,
    "editable": false,
    "nbgrader": {
     "cell_type": "code",
     "checksum": "c246c56470f2bf36ce866ef20b6ffd58",
     "grade": true,
     "grade_id": "cell-dfe93c328f6a81b3",
     "locked": true,
     "points": 0,
     "schema_version": 3,
     "solution": false,
     "task": false
    }
   },
   "outputs": [],
   "source": [
    "# This cell is reserved for grading, please do not change it.\n"
   ]
  },
  {
   "cell_type": "markdown",
   "metadata": {
    "deletable": false,
    "editable": false,
    "nbgrader": {
     "cell_type": "markdown",
     "checksum": "98320401a9b22eb8d6d0d1804490d3b6",
     "grade": false,
     "grade_id": "cell-c42b8a026903c16d",
     "locked": true,
     "schema_version": 3,
     "solution": false,
     "task": false
    }
   },
   "source": [
    "---"
   ]
  },
  {
   "cell_type": "markdown",
   "metadata": {
    "deletable": false,
    "editable": false,
    "id": "6ojrM4YphcEC",
    "nbgrader": {
     "cell_type": "markdown",
     "checksum": "14df19075ebe3db7bed15ceb641b40ef",
     "grade": false,
     "grade_id": "cell-3250151136580036",
     "locked": true,
     "schema_version": 3,
     "solution": false,
     "task": false
    }
   },
   "source": [
    "## Problem 4: Warrior attack effect calculator\n",
    "\n",
    "Write a function called `attack_effect` that calculates whether a player's attack on an opponent was effective or not, depending on the following parameters:\n",
    "- `attack` (str) - \"normal\" or \"special\" attack\n",
    "- `magic` (Boolean) - does the attack use magic?\n",
    "- `enemy_hero` (Boolean) - is the enemy a \"hero\"?\n",
    "\n",
    "The conditions and outcomes are:\n",
    "- If your enemy is not a hero, and you use magic and a special attack, the attack is `super_effective`\n",
    "- If your enemy is not a hero, and you don't use magic or only use a normal attack, the attack is `effective`\n",
    "- If your enemy is a hero, and you use special magic, the attack is `effective`\n",
    "- If your enemy is a hero, and you don't use magic, the attack is `ineffective`\n"
   ]
  },
  {
   "cell_type": "code",
   "execution_count": null,
   "metadata": {
    "deletable": false,
    "id": "WeVsjueHhhhl",
    "nbgrader": {
     "cell_type": "code",
     "checksum": "49f61912cd140aead8de052f961c6660",
     "grade": false,
     "grade_id": "cell-2df215a8e1415620",
     "locked": false,
     "schema_version": 3,
     "solution": true,
     "task": false
    }
   },
   "outputs": [],
   "source": [
    "# YOUR CODE HERE\n",
    "raise NotImplementedError()"
   ]
  },
  {
   "cell_type": "markdown",
   "metadata": {
    "deletable": false,
    "editable": false,
    "nbgrader": {
     "cell_type": "markdown",
     "checksum": "54988aa286c8674db7a91658c615ab5f",
     "grade": false,
     "grade_id": "cell-6c2c0f3e817ecfc6",
     "locked": true,
     "schema_version": 3,
     "solution": false,
     "task": false
    }
   },
   "source": [
    "Test your function here (and / or add more code blocks if you need to). \n",
    "\n",
    "You should probably play around with these variables to test your function's behavior."
   ]
  },
  {
   "cell_type": "code",
   "execution_count": null,
   "metadata": {
    "id": "GtixNSCZhk3l"
   },
   "outputs": [],
   "source": [
    "attack = \"special\"\n",
    "magic = False\n",
    "enemy_hero = False\n",
    "result = attack_effect(attack, magic, enemy_hero)\n",
    "print(result)"
   ]
  },
  {
   "cell_type": "markdown",
   "metadata": {
    "deletable": false,
    "editable": false,
    "nbgrader": {
     "cell_type": "markdown",
     "checksum": "1538cd5c2083c2bbfb7275032788a792",
     "grade": false,
     "grade_id": "cell-5198b98544abb85c",
     "locked": true,
     "schema_version": 3,
     "solution": false,
     "task": false
    }
   },
   "source": [
    "When you are done testing your function, run the autograder below to check if your solution is correct. \n",
    "\n",
    "The autograder will test several possible combinations of inputs at once."
   ]
  },
  {
   "cell_type": "code",
   "execution_count": null,
   "metadata": {
    "deletable": false,
    "editable": false,
    "nbgrader": {
     "cell_type": "code",
     "checksum": "2d006321eb4a06d637b7b6ee2258a377",
     "grade": true,
     "grade_id": "cell-69874f6af587bde3",
     "locked": true,
     "points": 0,
     "schema_version": 3,
     "solution": false,
     "task": false
    }
   },
   "outputs": [],
   "source": [
    "WarriorCase = namedtuple(\"WarriorCase\", [\"attack\", \"magic\", \"enemy_hero\", \"expected_effect\"])\n",
    "\n",
    "cases = [\n",
    "    WarriorCase(attack=\"normal\", magic=False, enemy_hero=False, expected_effect=\"effective\"),\n",
    "    WarriorCase(attack=\"normal\", magic=False, enemy_hero=True, expected_effect=\"ineffective\"),\n",
    "    WarriorCase(attack=\"normal\", magic=True, enemy_hero=False, expected_effect=\"effective\"),\n",
    "    WarriorCase(attack=\"normal\", magic=True, enemy_hero=True, expected_effect=\"effective\"),\n",
    "    WarriorCase(attack=\"special\", magic=False, enemy_hero=False, expected_effect=\"effective\"),\n",
    "    WarriorCase(attack=\"special\", magic=False, enemy_hero=True, expected_effect=\"ineffective\"),\n",
    "    WarriorCase(attack=\"special\", magic=True, enemy_hero=False, expected_effect=\"super_effective\"),\n",
    "    WarriorCase(attack=\"special\", magic=True, enemy_hero=True, expected_effect=\"effective\"),\n",
    "]\n",
    "\n",
    "print(f\"Testing the {attack_effect.__name__} function:\")\n",
    "for case in cases:\n",
    "    print(f\"  With: attack={case.attack!r}, magic={case.magic!r}, \"\\\n",
    "          f\"enemy_hero={case.enemy_hero!r}, it should \"\\\n",
    "          f\"return: {case.expected_effect!r}. Outcome\", end=\"...\")\n",
    "    \n",
    "    # run student's function\n",
    "    effect = attack_effect(attack=case.attack, magic=case.magic, enemy_hero=case.enemy_hero)\n",
    "\n",
    "    # test returned value is same as expecteed\n",
    "    try:\n",
    "        assert effect == case.expected_effect, TEST_FAIL_MSG\n",
    "        print(\"OK\")\n",
    "    except AssertionError:\n",
    "        print(\"FAIL\")\n",
    "        raise\n",
    "\n",
    "# if all test cases passed, print final message\n",
    "print(TEST_PASS_MSG)\n"
   ]
  },
  {
   "cell_type": "code",
   "execution_count": null,
   "metadata": {
    "deletable": false,
    "editable": false,
    "nbgrader": {
     "cell_type": "code",
     "checksum": "c4dcf156a43ef31d21df5c617e5cabb5",
     "grade": true,
     "grade_id": "cell-ce78b2aa0e59c35d",
     "locked": true,
     "points": 0,
     "schema_version": 3,
     "solution": false,
     "task": false
    }
   },
   "outputs": [],
   "source": [
    "# This cell is reserved for grading, please do not change it.\n"
   ]
  },
  {
   "cell_type": "markdown",
   "metadata": {
    "deletable": false,
    "editable": false,
    "nbgrader": {
     "cell_type": "markdown",
     "checksum": "ee3423567206984762426d923b911a51",
     "grade": false,
     "grade_id": "cell-cb98dda0077a2ddc",
     "locked": true,
     "schema_version": 3,
     "solution": false,
     "task": false
    }
   },
   "source": [
    "---"
   ]
  },
  {
   "cell_type": "markdown",
   "metadata": {
    "deletable": false,
    "editable": false,
    "id": "gQ7JwWWaaHeH",
    "nbgrader": {
     "cell_type": "markdown",
     "checksum": "80cc0aef3810c46cfb65f5971bcae34e",
     "grade": false,
     "grade_id": "cell-b7b26ddfa0f0918a",
     "locked": true,
     "schema_version": 3,
     "solution": false,
     "task": false
    }
   },
   "source": [
    "## Problem 5: Coffee recommender\n",
    "\n",
    "Write a function called `recommend_coffee` that recommends one of four coffees, depending on the following parameters:\n",
    "- `dark_roast` (Boolean) - do you like dark roast?\n",
    "- `cream` (Boolean) - do you like cream with your coffee?\n",
    "- `hazelnut` (Boolean) - do you like hazelnut flavors with your coffee?\n",
    "\n",
    "Your function should make the following recommendations:\n",
    "- Like dark roast, but like neither cream nor hazelnut &rarr; `\"americano\"`\n",
    "- Like dark roast, and must have both cream and hazelnut &rarr; `\"house_special\"`\n",
    "- Like dark roast, and cream, but not hazelnut &rarr; `\"latte\"`\n",
    "- Anything else &rarr; `\"house_drip\"`"
   ]
  },
  {
   "cell_type": "code",
   "execution_count": 14,
   "metadata": {
    "deletable": false,
    "id": "GwbMD2tXbHTi",
    "nbgrader": {
     "cell_type": "code",
     "checksum": "911a9db9063b9720e16d73b227e17bc3",
     "grade": false,
     "grade_id": "cell-685afe775c9bf961",
     "locked": false,
     "schema_version": 3,
     "solution": true,
     "task": false
    }
   },
   "outputs": [],
   "source": [
    "# function recommending coffee's\n",
    "def recommend_coffee(dark_roast, cream, hazelnut):\n",
    "    \"\"\"\n",
    "    this function serves as a Coffee recommender based on flavor likings \n",
    "    \n",
    "    Parameters \n",
    "    dark_roast : bool\n",
    "    cream : bool\n",
    "    hazelnut: bool\n",
    "    \n",
    "    Returns\n",
    "    return : recommendations of americano, house_special, latte, and house_drip based on likes\n",
    "    \"\"\"\n",
    "    if dark_roast == True and cream == False and hazelnut == False:\n",
    "        return \"americano\"\n",
    "    elif dark_roast == True and cream == True and hazelnut == True:\n",
    "        return \"house_special\"\n",
    "    elif dark_roast == True and cream == True and hazelnut == False:\n",
    "        return \"latte\"\n",
    "    else:\n",
    "        return \"house_drip\""
   ]
  },
  {
   "cell_type": "code",
   "execution_count": 15,
   "metadata": {
    "id": "XJMYwf0zbLKe"
   },
   "outputs": [
    {
     "name": "stdout",
     "output_type": "stream",
     "text": [
      "house_drip\n"
     ]
    }
   ],
   "source": [
    "# Test your function here (and/or add more code blocks if you need to)\n",
    "# You should probably play around with these variables to test your function's behavior\n",
    "dark_roast = True\n",
    "cream = False\n",
    "hazelnut = True\n",
    "coffee = recommend_coffee(dark_roast, cream, hazelnut)\n",
    "print(coffee)"
   ]
  },
  {
   "cell_type": "markdown",
   "metadata": {
    "deletable": false,
    "editable": false,
    "nbgrader": {
     "cell_type": "markdown",
     "checksum": "f3029954735d80b0b7465539f3adb42d",
     "grade": false,
     "grade_id": "cell-ecfddd16de7b8389",
     "locked": true,
     "schema_version": 3,
     "solution": false,
     "task": false
    }
   },
   "source": [
    "When you are done testing your function, run the autograder below to check if your solution is correct.\n",
    "\n",
    "The autograder will test several possible combinations of inputs at once."
   ]
  },
  {
   "cell_type": "code",
   "execution_count": 16,
   "metadata": {
    "deletable": false,
    "editable": false,
    "nbgrader": {
     "cell_type": "code",
     "checksum": "3144348eca8238154f735c826802c9d6",
     "grade": false,
     "grade_id": "cell-c650af1ceb1365e4",
     "locked": true,
     "schema_version": 3,
     "solution": false,
     "task": false
    }
   },
   "outputs": [
    {
     "name": "stdout",
     "output_type": "stream",
     "text": [
      "Testing the recommend_coffee function:\n",
      "  With: dark_roast=False, cream=False, hazelnut=False, it should return: 'house_drip'. Outcome...OK\n",
      "  With: dark_roast=False, cream=False, hazelnut=True, it should return: 'house_drip'. Outcome...OK\n",
      "  With: dark_roast=False, cream=True, hazelnut=False, it should return: 'house_drip'. Outcome...OK\n",
      "  With: dark_roast=False, cream=True, hazelnut=True, it should return: 'house_drip'. Outcome...OK\n",
      "  With: dark_roast=True, cream=False, hazelnut=False, it should return: 'americano'. Outcome...OK\n",
      "  With: dark_roast=True, cream=False, hazelnut=True, it should return: 'house_drip'. Outcome...OK\n",
      "  With: dark_roast=True, cream=True, hazelnut=False, it should return: 'latte'. Outcome...OK\n",
      "  With: dark_roast=True, cream=True, hazelnut=True, it should return: 'house_special'. Outcome...OK\n",
      "Correct, great job! 👍\n"
     ]
    }
   ],
   "source": [
    "CoffeeCase = namedtuple(\"CoffeeCase\", [\"dark_roast\", \"cream\", \"hazelnut\", \"expected_coffee\"])\n",
    "\n",
    "cases = [\n",
    "    CoffeeCase(dark_roast=False, cream=False, hazelnut=False, expected_coffee=\"house_drip\"),\n",
    "    CoffeeCase(dark_roast=False, cream=False, hazelnut=True, expected_coffee=\"house_drip\"),\n",
    "    CoffeeCase(dark_roast=False, cream=True, hazelnut=False, expected_coffee=\"house_drip\"),\n",
    "    CoffeeCase(dark_roast=False, cream=True, hazelnut=True, expected_coffee=\"house_drip\"),\n",
    "    CoffeeCase(dark_roast=True, cream=False, hazelnut=False, expected_coffee=\"americano\"),\n",
    "    CoffeeCase(dark_roast=True, cream=False, hazelnut=True, expected_coffee=\"house_drip\"),\n",
    "    CoffeeCase(dark_roast=True, cream=True, hazelnut=False, expected_coffee=\"latte\"),\n",
    "    CoffeeCase(dark_roast=True, cream=True, hazelnut=True, expected_coffee=\"house_special\"),\n",
    "]\n",
    "\n",
    "print(f\"Testing the {recommend_coffee.__name__} function:\")\n",
    "for case in cases:\n",
    "    print(f\"  With: dark_roast={case.dark_roast!r}, cream={case.cream!r}, \"\\\n",
    "          f\"hazelnut={case.hazelnut!r}, it should \"\\\n",
    "          f\"return: {case.expected_coffee!r}. Outcome\", end=\"...\")\n",
    "    \n",
    "    # run student's function\n",
    "    coffee = recommend_coffee(dark_roast=case.dark_roast, cream=case.cream, \n",
    "                              hazelnut=case.hazelnut)\n",
    "\n",
    "    # test returned value is same as expecteed\n",
    "    try:\n",
    "        assert coffee == case.expected_coffee, TEST_FAIL_MSG\n",
    "        print(\"OK\")\n",
    "    except AssertionError:\n",
    "        print(\"FAIL\")\n",
    "        raise\n",
    "\n",
    "# if all test cases passed, print final message\n",
    "print(TEST_PASS_MSG)\n"
   ]
  },
  {
   "cell_type": "code",
   "execution_count": null,
   "metadata": {
    "deletable": false,
    "editable": false,
    "nbgrader": {
     "cell_type": "code",
     "checksum": "0d331dc3c09ba40ca0fe41082db4c5d9",
     "grade": true,
     "grade_id": "cell-183d5dc8e4c7101a",
     "locked": true,
     "points": 0,
     "schema_version": 3,
     "solution": false,
     "task": false
    }
   },
   "outputs": [],
   "source": [
    "# This cell is reserved for grading, please do not change it.\n"
   ]
  }
 ],
 "metadata": {
  "colab": {
   "collapsed_sections": [],
   "name": "INST126_SP21_Project1_Template.ipynb",
   "provenance": []
  },
  "kernelspec": {
   "display_name": "Python 3 (ipykernel)",
   "language": "python",
   "name": "python3"
  },
  "language_info": {
   "codemirror_mode": {
    "name": "ipython",
    "version": 3
   },
   "file_extension": ".py",
   "mimetype": "text/x-python",
   "name": "python",
   "nbconvert_exporter": "python",
   "pygments_lexer": "ipython3",
   "version": "3.11.4"
  },
  "toc": {
   "base_numbering": 1,
   "nav_menu": {},
   "number_sections": true,
   "sideBar": true,
   "skip_h1_title": false,
   "title_cell": "Table of Contents",
   "title_sidebar": "Contents",
   "toc_cell": false,
   "toc_position": {},
   "toc_section_display": true,
   "toc_window_display": false
  }
 },
 "nbformat": 4,
 "nbformat_minor": 1
}
